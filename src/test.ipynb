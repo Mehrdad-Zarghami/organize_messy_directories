{
 "cells": [
  {
   "cell_type": "code",
   "execution_count": 37,
   "metadata": {},
   "outputs": [],
   "source": [
    "from pathlib import Path\n",
    "from collections import Counter\n",
    "import shutil #--> Shell commands  \n",
    "import os"
   ]
  },
  {
   "cell_type": "code",
   "execution_count": 3,
   "metadata": {
    "collapsed": true
   },
   "outputs": [
    {
     "data": {
      "text/plain": [
       "PosixPath('/mnt/c/Users/Asronic/Downloads')"
      ]
     },
     "execution_count": 3,
     "metadata": {},
     "output_type": "execute_result"
    }
   ],
   "source": [
    "DIR_PATH = '/mnt/c/Users/Asronic/Downloads' #-->The path that we want to make clean. It can be given as an input argument\n",
    "DIR_PATH = Path(DIR_PATH)\n",
    "DIR_PATH \n"
   ]
  },
  {
   "cell_type": "code",
   "execution_count": 10,
   "metadata": {},
   "outputs": [
    {
     "data": {
      "text/plain": [
       "[('.pdf', 107),\n",
       " ('.zip', 16),\n",
       " ('.jpeg', 14),\n",
       " ('.docx', 9),\n",
       " ('.xlsx', 9),\n",
       " ('.exe', 6),\n",
       " ('.jpg', 5),\n",
       " ('.htm', 3),\n",
       " ('.doc', 3),\n",
       " ('.PDF', 3),\n",
       " ('.rar', 3),\n",
       " ('.ipynb', 2),\n",
       " ('.sql', 2),\n",
       " ('.mkv', 2),\n",
       " ('.png', 2),\n",
       " ('.mp3', 2),\n",
       " ('.epub', 2),\n",
       " ('.bib', 2),\n",
       " ('.ini', 1),\n",
       " ('.vtt', 1),\n",
       " ('.txt', 1),\n",
       " ('.tex', 1),\n",
       " ('.h5', 1),\n",
       " ('.run', 1),\n",
       " ('.iso', 1)]"
      ]
     },
     "execution_count": 10,
     "metadata": {},
     "output_type": "execute_result"
    }
   ],
   "source": [
    "# looping over all the files in the directory and count the number of each extension\n",
    "file_extensions = []\n",
    "for file_path in DIR_PATH.iterdir():\n",
    "    if file_path.is_dir():  #--> It only grabs the non-directory files. If it is a directory it goes back to the start of loop\n",
    "        continue\n",
    "\n",
    "    file_extensions.append(file_path.suffix)\n",
    "\n",
    "\n",
    "Counter(file_extensions).most_common()\n"
   ]
  },
  {
   "cell_type": "code",
   "execution_count": 34,
   "metadata": {},
   "outputs": [],
   "source": [
    "file_type_destination = {\n",
    "    '.png': 'image_',\n",
    "    '.jpeg': 'image_',\n",
    "    '.jpg': 'image_',\n",
    "    '.zip': 'zip_',\n",
    "    '.rar': 'zip_',\n",
    "    '.xlsx': 'data_',\n",
    "    '.csv': 'data_',\n",
    "    '.json': 'data_',\n",
    "    '.pdf': 'document_',\n",
    "    '.PDF': 'document_',\n",
    "    '.epub': 'document_',\n",
    "    '.doc': 'document_',\n",
    "    '.docx': 'document_',\n",
    "    '.txt': 'text_',\n",
    "    '.mp3': 'music_',\n",
    "    '.mkv': 'video_',\n",
    "    '.ipynb': 'python_files_',\n",
    "    '.exe': 'programs_',\n",
    "    '.iso': 'programs_',\n",
    "\n",
    "\n",
    "    # to be continued\n",
    "    \n",
    "\n",
    "\n",
    "}"
   ]
  },
  {
   "cell_type": "code",
   "execution_count": 47,
   "metadata": {},
   "outputs": [],
   "source": [
    "##\n",
    "\n",
    "\n",
    "for file_path in DIR_PATH.iterdir():\n",
    "\n",
    "\n",
    "    try:\n",
    "\n",
    "        #ignore hidden files:\n",
    "        if file_path.name.startswith('.'):\n",
    "            continue\n",
    "\n",
    "        #ignore directories\n",
    "        if file_path.is_dir():  #--> It only grabs the non-directory files. If it is a directory it goes back to the start of loop\n",
    "            continue\n",
    "        # Method 1: Rename existing file\n",
    "\n",
    "\n",
    "\n",
    "        if file_path.suffix not in file_type_destination:\n",
    "            DEST_DIR = DIR_PATH / 'others_'\n",
    "        else:\n",
    "            DEST_DIR = DIR_PATH / file_type_destination[file_path.suffix]\n",
    "\n",
    "        DEST_DIR.mkdir(exist_ok = True)\n",
    "\n",
    "        # move file to new destination\n",
    "\n",
    "        shutil.move(str(file_path), str(DEST_DIR))\n",
    "\n",
    "    except shutil.Error as e:\n",
    "\n",
    "        dest_file = DEST_DIR / file_path.name\n",
    "        if dest_file.exists():\n",
    "           new_file_stem = file_path.stem + \"(Copy)\"\n",
    "           new_file_name = new_file_stem + file_path.suffix\n",
    "           new_file_path = DIR_PATH / new_file_name\n",
    "\n",
    "           shutil.move(str(file_path) , str(new_file_path))\n",
    "           shutil.move(str(new_file_path) , str(DEST_DIR))\n",
    "\n",
    "\n"
   ]
  },
  {
   "cell_type": "code",
   "execution_count": null,
   "metadata": {},
   "outputs": [],
   "source": []
  }
 ],
 "metadata": {
  "kernelspec": {
   "display_name": "Python 3",
   "language": "python",
   "name": "python3"
  },
  "language_info": {
   "codemirror_mode": {
    "name": "ipython",
    "version": 3
   },
   "file_extension": ".py",
   "mimetype": "text/x-python",
   "name": "python",
   "nbconvert_exporter": "python",
   "pygments_lexer": "ipython3",
   "version": "3.10.11"
  }
 },
 "nbformat": 4,
 "nbformat_minor": 0
}
